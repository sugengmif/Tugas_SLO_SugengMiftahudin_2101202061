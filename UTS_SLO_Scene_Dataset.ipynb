{
  "nbformat": 4,
  "nbformat_minor": 0,
  "metadata": {
    "colab": {
      "name": "UTS_SLO_Scene_Dataset.ipynb",
      "provenance": []
    },
    "kernelspec": {
      "name": "python3",
      "display_name": "Python 3"
    },
    "language_info": {
      "name": "python"
    }
  },
  "cells": [
    {
      "cell_type": "code",
      "metadata": {
        "colab": {
          "base_uri": "https://localhost:8080/"
        },
        "id": "2QQb7zy5Q75L",
        "outputId": "9748bd84-2f3b-4c2d-9f7d-53a231dda7bd"
      },
      "source": [
        "from google.colab import drive\n",
        "drive.mount('/content/drive')"
      ],
      "execution_count": null,
      "outputs": [
        {
          "output_type": "stream",
          "text": [
            "Mounted at /content/drive\n"
          ],
          "name": "stdout"
        }
      ]
    },
    {
      "cell_type": "code",
      "metadata": {
        "colab": {
          "base_uri": "https://localhost:8080/"
        },
        "id": "LuvC1IGHR_Cr",
        "outputId": "18dafa47-72d4-485b-b365-0302fe05eb79"
      },
      "source": [
        "cd /content/drive/MyDrive/Colab Notebooks"
      ],
      "execution_count": null,
      "outputs": [
        {
          "output_type": "stream",
          "text": [
            "/content/drive/MyDrive/Colab Notebooks\n"
          ],
          "name": "stdout"
        }
      ]
    },
    {
      "cell_type": "code",
      "metadata": {
        "colab": {
          "base_uri": "https://localhost:8080/"
        },
        "id": "zndw7kIzSDCz",
        "outputId": "e7effd56-fa3d-444e-9e84-0b135e41bb73"
      },
      "source": [
        "ls"
      ],
      "execution_count": null,
      "outputs": [
        {
          "output_type": "stream",
          "text": [
            " \u001b[0m\u001b[01;36m3scene\u001b[0m@          'Tugas Individu SLO.ipynb'\n",
            " data_cancer.csv   UTS_SLO_Scene_Dataset.ipynb\n"
          ],
          "name": "stdout"
        }
      ]
    },
    {
      "cell_type": "code",
      "metadata": {
        "id": "FlXHiCM0SHwe"
      },
      "source": [
        "# import the necessary packages\n",
        "from keras.models import Sequential\n",
        "from keras.layers.core import Activation\n",
        "from keras.layers.core import Flatten\n",
        "from keras.layers.core import Dense\n",
        "from keras.optimizers import Adam\n",
        "from sklearn.preprocessing import LabelBinarizer\n",
        "from sklearn.model_selection import train_test_split\n",
        "from sklearn.metrics import classification_report\n",
        "from PIL import Image\n",
        "from imutils import paths\n",
        "import numpy as np\n",
        "import os"
      ],
      "execution_count": null,
      "outputs": []
    },
    {
      "cell_type": "code",
      "metadata": {
        "colab": {
          "base_uri": "https://localhost:8080/"
        },
        "id": "nETeA671SL2Y",
        "outputId": "ffbfc05e-c09d-4145-b0ea-061d1ae8ac35"
      },
      "source": [
        "# grab all image paths in the input dataset directory, then initialize\n",
        "# our list of images and corresponding class labels\n",
        "print(\"[INFO] loading images...\")\n",
        "imagePaths = paths.list_images(\"3scene\")\n",
        "data = []\n",
        "labels = []"
      ],
      "execution_count": null,
      "outputs": [
        {
          "output_type": "stream",
          "text": [
            "[INFO] loading images...\n"
          ],
          "name": "stdout"
        }
      ]
    },
    {
      "cell_type": "code",
      "metadata": {
        "id": "dohA_Ee3SRQW"
      },
      "source": [
        "# loop over our input images\n",
        "for imagePath in imagePaths:\n",
        "\t# load the input image from disk, resize it to 128x128 pixels, scale\n",
        "\t# the pixel intensities to the range [0, 1], and then update our\n",
        "\t# images list\n",
        "\timage = Image.open(imagePath)\n",
        " #bisa pasang preprocessing disini jika mau, seperti filterring, dll\n",
        "\timage = np.array(image.resize((128, 128))) / 255.0 #normalisasi\n",
        "\tdata.append(image)\n",
        "\n",
        "\t# extract the class label from the file path and update the\n",
        "\t# labels list\n",
        "\tlabel = imagePath.split(os.path.sep)[-2]\n",
        "\tlabels.append(label)"
      ],
      "execution_count": null,
      "outputs": []
    },
    {
      "cell_type": "code",
      "metadata": {
        "colab": {
          "base_uri": "https://localhost:8080/"
        },
        "id": "DGEpfW1fT1j3",
        "outputId": "7350e74c-f925-4152-c14d-8c5756e56484"
      },
      "source": [
        "print(labels)"
      ],
      "execution_count": null,
      "outputs": [
        {
          "output_type": "stream",
          "text": [
            "['forest', 'forest', 'forest', 'forest', 'forest', 'forest', 'forest', 'forest', 'forest', 'forest', 'forest', 'forest', 'forest', 'forest', 'forest', 'forest', 'forest', 'forest', 'forest', 'forest', 'forest', 'forest', 'forest', 'forest', 'forest', 'forest', 'forest', 'forest', 'forest', 'forest', 'forest', 'forest', 'forest', 'forest', 'forest', 'forest', 'forest', 'forest', 'forest', 'forest', 'forest', 'forest', 'forest', 'forest', 'forest', 'forest', 'forest', 'forest', 'forest', 'forest', 'forest', 'forest', 'forest', 'forest', 'forest', 'forest', 'forest', 'forest', 'forest', 'forest', 'forest', 'forest', 'forest', 'forest', 'forest', 'forest', 'forest', 'forest', 'forest', 'forest', 'forest', 'forest', 'forest', 'forest', 'forest', 'forest', 'forest', 'forest', 'forest', 'forest', 'forest', 'forest', 'forest', 'forest', 'forest', 'forest', 'forest', 'forest', 'forest', 'forest', 'forest', 'forest', 'forest', 'forest', 'forest', 'forest', 'forest', 'forest', 'forest', 'forest', 'forest', 'forest', 'forest', 'forest', 'forest', 'forest', 'forest', 'forest', 'forest', 'forest', 'forest', 'forest', 'forest', 'forest', 'forest', 'forest', 'forest', 'forest', 'forest', 'forest', 'forest', 'forest', 'forest', 'forest', 'forest', 'forest', 'forest', 'forest', 'forest', 'forest', 'forest', 'forest', 'forest', 'forest', 'forest', 'forest', 'forest', 'forest', 'forest', 'forest', 'forest', 'forest', 'forest', 'forest', 'forest', 'forest', 'forest', 'forest', 'forest', 'forest', 'forest', 'forest', 'forest', 'forest', 'forest', 'forest', 'forest', 'forest', 'forest', 'forest', 'forest', 'forest', 'forest', 'forest', 'forest', 'forest', 'forest', 'forest', 'forest', 'forest', 'forest', 'forest', 'forest', 'forest', 'forest', 'forest', 'forest', 'forest', 'forest', 'forest', 'forest', 'forest', 'forest', 'forest', 'forest', 'forest', 'forest', 'forest', 'forest', 'forest', 'forest', 'forest', 'forest', 'forest', 'forest', 'forest', 'forest', 'forest', 'forest', 'forest', 'forest', 'forest', 'forest', 'forest', 'forest', 'forest', 'forest', 'forest', 'forest', 'forest', 'forest', 'forest', 'forest', 'forest', 'forest', 'forest', 'forest', 'forest', 'forest', 'forest', 'forest', 'forest', 'forest', 'forest', 'forest', 'forest', 'forest', 'forest', 'forest', 'forest', 'forest', 'forest', 'forest', 'forest', 'forest', 'forest', 'forest', 'forest', 'forest', 'forest', 'forest', 'forest', 'forest', 'forest', 'forest', 'forest', 'forest', 'forest', 'forest', 'forest', 'forest', 'forest', 'forest', 'forest', 'forest', 'forest', 'forest', 'forest', 'forest', 'forest', 'forest', 'forest', 'forest', 'forest', 'forest', 'forest', 'forest', 'forest', 'forest', 'forest', 'forest', 'forest', 'forest', 'forest', 'forest', 'forest', 'forest', 'forest', 'forest', 'forest', 'forest', 'forest', 'forest', 'forest', 'forest', 'forest', 'forest', 'forest', 'forest', 'forest', 'forest', 'forest', 'forest', 'forest', 'forest', 'forest', 'forest', 'forest', 'forest', 'forest', 'forest', 'forest', 'forest', 'forest', 'forest', 'forest', 'forest', 'forest', 'forest', 'forest', 'forest', 'forest', 'forest', 'forest', 'forest', 'forest', 'forest', 'forest', 'forest', 'forest', 'forest', 'forest', 'forest', 'forest', 'forest', 'forest', 'forest', 'forest', 'highway', 'highway', 'highway', 'highway', 'highway', 'highway', 'highway', 'highway', 'highway', 'highway', 'highway', 'highway', 'highway', 'highway', 'highway', 'highway', 'highway', 'highway', 'highway', 'highway', 'highway', 'highway', 'highway', 'highway', 'highway', 'highway', 'highway', 'highway', 'highway', 'highway', 'highway', 'highway', 'highway', 'highway', 'highway', 'highway', 'highway', 'highway', 'highway', 'highway', 'highway', 'highway', 'highway', 'highway', 'highway', 'highway', 'highway', 'highway', 'highway', 'highway', 'highway', 'highway', 'highway', 'highway', 'highway', 'highway', 'highway', 'highway', 'highway', 'highway', 'highway', 'highway', 'highway', 'highway', 'highway', 'highway', 'highway', 'highway', 'highway', 'highway', 'highway', 'highway', 'highway', 'highway', 'highway', 'highway', 'highway', 'highway', 'highway', 'highway', 'highway', 'highway', 'highway', 'highway', 'highway', 'highway', 'highway', 'highway', 'highway', 'highway', 'highway', 'highway', 'highway', 'highway', 'highway', 'highway', 'highway', 'highway', 'highway', 'highway', 'highway', 'highway', 'highway', 'highway', 'highway', 'highway', 'highway', 'highway', 'highway', 'highway', 'highway', 'highway', 'highway', 'highway', 'highway', 'highway', 'highway', 'highway', 'highway', 'highway', 'highway', 'highway', 'highway', 'highway', 'highway', 'highway', 'highway', 'highway', 'highway', 'highway', 'highway', 'highway', 'highway', 'highway', 'highway', 'highway', 'highway', 'highway', 'highway', 'highway', 'highway', 'highway', 'highway', 'highway', 'highway', 'highway', 'highway', 'highway', 'highway', 'highway', 'highway', 'highway', 'highway', 'highway', 'highway', 'highway', 'highway', 'highway', 'highway', 'highway', 'highway', 'highway', 'highway', 'highway', 'highway', 'highway', 'highway', 'highway', 'highway', 'highway', 'highway', 'highway', 'highway', 'highway', 'highway', 'highway', 'highway', 'highway', 'highway', 'highway', 'highway', 'highway', 'highway', 'highway', 'highway', 'highway', 'highway', 'highway', 'highway', 'highway', 'highway', 'highway', 'highway', 'highway', 'highway', 'highway', 'highway', 'highway', 'highway', 'highway', 'highway', 'highway', 'highway', 'highway', 'highway', 'highway', 'highway', 'highway', 'highway', 'highway', 'highway', 'highway', 'highway', 'highway', 'highway', 'highway', 'highway', 'highway', 'highway', 'highway', 'highway', 'highway', 'highway', 'highway', 'highway', 'highway', 'highway', 'highway', 'highway', 'highway', 'highway', 'highway', 'highway', 'highway', 'highway', 'highway', 'highway', 'highway', 'highway', 'highway', 'highway', 'highway', 'highway', 'highway', 'highway', 'highway', 'highway', 'highway', 'highway', 'highway', 'highway', 'highway', 'highway', 'highway', 'highway', 'highway', 'highway', 'highway', 'highway', 'highway', 'coast', 'coast', 'coast', 'coast', 'coast', 'coast', 'coast', 'coast', 'coast', 'coast', 'coast', 'coast', 'coast', 'coast', 'coast', 'coast', 'coast', 'coast', 'coast', 'coast', 'coast', 'coast', 'coast', 'coast', 'coast', 'coast', 'coast', 'coast', 'coast', 'coast', 'coast', 'coast', 'coast', 'coast', 'coast', 'coast', 'coast', 'coast', 'coast', 'coast', 'coast', 'coast', 'coast', 'coast', 'coast', 'coast', 'coast', 'coast', 'coast', 'coast', 'coast', 'coast', 'coast', 'coast', 'coast', 'coast', 'coast', 'coast', 'coast', 'coast', 'coast', 'coast', 'coast', 'coast', 'coast', 'coast', 'coast', 'coast', 'coast', 'coast', 'coast', 'coast', 'coast', 'coast', 'coast', 'coast', 'coast', 'coast', 'coast', 'coast', 'coast', 'coast', 'coast', 'coast', 'coast', 'coast', 'coast', 'coast', 'coast', 'coast', 'coast', 'coast', 'coast', 'coast', 'coast', 'coast', 'coast', 'coast', 'coast', 'coast', 'coast', 'coast', 'coast', 'coast', 'coast', 'coast', 'coast', 'coast', 'coast', 'coast', 'coast', 'coast', 'coast', 'coast', 'coast', 'coast', 'coast', 'coast', 'coast', 'coast', 'coast', 'coast', 'coast', 'coast', 'coast', 'coast', 'coast', 'coast', 'coast', 'coast', 'coast', 'coast', 'coast', 'coast', 'coast', 'coast', 'coast', 'coast', 'coast', 'coast', 'coast', 'coast', 'coast', 'coast', 'coast', 'coast', 'coast', 'coast', 'coast', 'coast', 'coast', 'coast', 'coast', 'coast', 'coast', 'coast', 'coast', 'coast', 'coast', 'coast', 'coast', 'coast', 'coast', 'coast', 'coast', 'coast', 'coast', 'coast', 'coast', 'coast', 'coast', 'coast', 'coast', 'coast', 'coast', 'coast', 'coast', 'coast', 'coast', 'coast', 'coast', 'coast', 'coast', 'coast', 'coast', 'coast', 'coast', 'coast', 'coast', 'coast', 'coast', 'coast', 'coast', 'coast', 'coast', 'coast', 'coast', 'coast', 'coast', 'coast', 'coast', 'coast', 'coast', 'coast', 'coast', 'coast', 'coast', 'coast', 'coast', 'coast', 'coast', 'coast', 'coast', 'coast', 'coast', 'coast', 'coast', 'coast', 'coast', 'coast', 'coast', 'coast', 'coast', 'coast', 'coast', 'coast', 'coast', 'coast', 'coast', 'coast', 'coast', 'coast', 'coast', 'coast', 'coast', 'coast', 'coast', 'coast', 'coast', 'coast', 'coast', 'coast', 'coast', 'coast', 'coast', 'coast', 'coast', 'coast', 'coast', 'coast', 'coast', 'coast', 'coast', 'coast', 'coast', 'coast', 'coast', 'coast', 'coast', 'coast', 'coast', 'coast', 'coast', 'coast', 'coast', 'coast', 'coast', 'coast', 'coast', 'coast', 'coast', 'coast', 'coast', 'coast', 'coast', 'coast', 'coast', 'coast', 'coast', 'coast', 'coast', 'coast', 'coast', 'coast', 'coast', 'coast', 'coast', 'coast', 'coast', 'coast', 'coast', 'coast', 'coast', 'coast', 'coast', 'coast', 'coast', 'coast', 'coast', 'coast', 'coast', 'coast', 'coast', 'coast', 'coast', 'coast', 'coast', 'coast', 'coast', 'coast', 'coast', 'coast', 'coast', 'coast', 'coast', 'coast', 'coast', 'coast', 'coast', 'coast', 'coast', 'coast', 'coast', 'coast', 'coast', 'coast', 'coast', 'coast', 'coast', 'coast', 'coast', 'coast', 'coast', 'coast', 'coast', 'coast', 'coast', 'coast', 'coast', 'coast', 'coast', 'coast', 'coast', 'coast', 'coast', 'coast', 'coast', 'coast', 'coast', 'coast', 'coast', 'coast', 'coast', 'coast', 'coast', 'coast', 'coast', 'coast', 'coast', 'coast']\n"
          ],
          "name": "stdout"
        }
      ]
    },
    {
      "cell_type": "code",
      "metadata": {
        "id": "MstS8qbST6I4"
      },
      "source": [
        "# encode the labels, converting them from strings to integers\n",
        "lb = LabelBinarizer()\n",
        "labels = lb.fit_transform(labels)"
      ],
      "execution_count": null,
      "outputs": []
    },
    {
      "cell_type": "code",
      "metadata": {
        "colab": {
          "base_uri": "https://localhost:8080/"
        },
        "id": "HSuvGr3CT_r0",
        "outputId": "d76054df-e9bd-44da-8319-2de75c909ad4"
      },
      "source": [
        "print(labels)"
      ],
      "execution_count": null,
      "outputs": [
        {
          "output_type": "stream",
          "text": [
            "[[0 1 0]\n",
            " [0 1 0]\n",
            " [0 1 0]\n",
            " ...\n",
            " [1 0 0]\n",
            " [1 0 0]\n",
            " [1 0 0]]\n"
          ],
          "name": "stdout"
        }
      ]
    },
    {
      "cell_type": "code",
      "metadata": {
        "colab": {
          "base_uri": "https://localhost:8080/"
        },
        "id": "b1JU-EHHUCq6",
        "outputId": "d212aea0-521e-4e0d-9075-722780654e74"
      },
      "source": [
        "print(np.array(data).shape)"
      ],
      "execution_count": null,
      "outputs": [
        {
          "output_type": "stream",
          "text": [
            "(948, 128, 128, 3)\n"
          ],
          "name": "stdout"
        }
      ]
    },
    {
      "cell_type": "code",
      "metadata": {
        "colab": {
          "base_uri": "https://localhost:8080/"
        },
        "id": "7WPg88G3UJy3",
        "outputId": "d5422d76-5035-4903-deaf-9c4d22986b2b"
      },
      "source": [
        "# perform a training and testing split, using 75% of the data for\n",
        "# training and 25% for evaluation\n",
        "(trainX, testX, trainY, testY) = train_test_split(np.array(data),\tnp.array(labels), test_size=0.25)\n",
        "print(trainX.shape)\n",
        "print(testX.shape)"
      ],
      "execution_count": null,
      "outputs": [
        {
          "output_type": "stream",
          "text": [
            "(711, 128, 128, 3)\n",
            "(237, 128, 128, 3)\n"
          ],
          "name": "stdout"
        }
      ]
    },
    {
      "cell_type": "code",
      "metadata": {
        "id": "iKl3qFa5UQb-"
      },
      "source": [
        "from keras.models import Sequential\n",
        "from keras.layers.core import Flatten\n",
        "from keras.layers.core import Dense, Dropout\n",
        "\n",
        "model = Sequential(\n",
        "    [\n",
        "        Flatten(input_shape=(128*128*3,)),\n",
        "        Dense(256, activation=\"relu\"),\n",
        "        Dense(128, activation=\"relu\"),\n",
        "        Dropout(0.3),\n",
        "        Dense(64, activation=\"relu\"),\n",
        "        Dense(32, activation=\"relu\"),\n",
        "        Dropout(0.3),\n",
        "        Dense(16, activation=\"relu\"),\n",
        "        Dense(8, activation=\"relu\"),\n",
        "        Dense(3, activation = \"softmax\"),\n",
        "    ]\n",
        ")"
      ],
      "execution_count": null,
      "outputs": []
    },
    {
      "cell_type": "code",
      "metadata": {
        "colab": {
          "base_uri": "https://localhost:8080/"
        },
        "id": "ZCJZqolhUXK8",
        "outputId": "d8e5489a-349b-48fd-8f79-3fb31a9214a7"
      },
      "source": [
        "model.summary()"
      ],
      "execution_count": null,
      "outputs": [
        {
          "output_type": "stream",
          "text": [
            "Model: \"sequential_13\"\n",
            "_________________________________________________________________\n",
            "Layer (type)                 Output Shape              Param #   \n",
            "=================================================================\n",
            "flatten_13 (Flatten)         (None, 49152)             0         \n",
            "_________________________________________________________________\n",
            "dense_91 (Dense)             (None, 256)               12583168  \n",
            "_________________________________________________________________\n",
            "dense_92 (Dense)             (None, 128)               32896     \n",
            "_________________________________________________________________\n",
            "dropout_26 (Dropout)         (None, 128)               0         \n",
            "_________________________________________________________________\n",
            "dense_93 (Dense)             (None, 64)                8256      \n",
            "_________________________________________________________________\n",
            "dense_94 (Dense)             (None, 32)                2080      \n",
            "_________________________________________________________________\n",
            "dropout_27 (Dropout)         (None, 32)                0         \n",
            "_________________________________________________________________\n",
            "dense_95 (Dense)             (None, 16)                528       \n",
            "_________________________________________________________________\n",
            "dense_96 (Dense)             (None, 8)                 136       \n",
            "_________________________________________________________________\n",
            "dense_97 (Dense)             (None, 3)                 27        \n",
            "=================================================================\n",
            "Total params: 12,627,091\n",
            "Trainable params: 12,627,091\n",
            "Non-trainable params: 0\n",
            "_________________________________________________________________\n"
          ],
          "name": "stdout"
        }
      ]
    },
    {
      "cell_type": "code",
      "metadata": {
        "colab": {
          "base_uri": "https://localhost:8080/"
        },
        "id": "S0BkGz5rUbBy",
        "outputId": "c48e79d2-817d-4c16-a78f-a1a876202766"
      },
      "source": [
        "# train the model using the Adam optimizer\n",
        "print(\"[INFO] training network...\")\n",
        "opt = Adam(lr=1e-3, decay=1e-3)\n",
        "model.compile(loss=\"categorical_crossentropy\", optimizer=opt,\n",
        "\tmetrics=[\"accuracy\"])\n",
        "H = model.fit(trainX, trainY, validation_data=(testX, testY), epochs=50, batch_size=32)"
      ],
      "execution_count": null,
      "outputs": [
        {
          "output_type": "stream",
          "text": [
            "[INFO] training network...\n",
            "Epoch 1/50\n",
            "WARNING:tensorflow:Model was constructed with shape (None, 49152) for input KerasTensor(type_spec=TensorSpec(shape=(None, 49152), dtype=tf.float32, name='flatten_13_input'), name='flatten_13_input', description=\"created by layer 'flatten_13_input'\"), but it was called on an input with incompatible shape (None, 128, 128, 3).\n",
            "WARNING:tensorflow:Model was constructed with shape (None, 49152) for input KerasTensor(type_spec=TensorSpec(shape=(None, 49152), dtype=tf.float32, name='flatten_13_input'), name='flatten_13_input', description=\"created by layer 'flatten_13_input'\"), but it was called on an input with incompatible shape (None, 128, 128, 3).\n",
            "23/23 [==============================] - ETA: 0s - loss: 1.7398 - accuracy: 0.3503WARNING:tensorflow:Model was constructed with shape (None, 49152) for input KerasTensor(type_spec=TensorSpec(shape=(None, 49152), dtype=tf.float32, name='flatten_13_input'), name='flatten_13_input', description=\"created by layer 'flatten_13_input'\"), but it was called on an input with incompatible shape (None, 128, 128, 3).\n",
            "23/23 [==============================] - 3s 85ms/step - loss: 1.7387 - accuracy: 0.3508 - val_loss: 1.3171 - val_accuracy: 0.3376\n",
            "Epoch 2/50\n",
            "23/23 [==============================] - 2s 76ms/step - loss: 1.3734 - accuracy: 0.3458 - val_loss: 1.0955 - val_accuracy: 0.3207\n",
            "Epoch 3/50\n",
            "23/23 [==============================] - 2s 76ms/step - loss: 1.1744 - accuracy: 0.3660 - val_loss: 1.1067 - val_accuracy: 0.2616\n",
            "Epoch 4/50\n",
            "23/23 [==============================] - 2s 76ms/step - loss: 1.1160 - accuracy: 0.3785 - val_loss: 1.1261 - val_accuracy: 0.3333\n",
            "Epoch 5/50\n",
            "23/23 [==============================] - 2s 76ms/step - loss: 1.1309 - accuracy: 0.3493 - val_loss: 1.1137 - val_accuracy: 0.5021\n",
            "Epoch 6/50\n",
            "23/23 [==============================] - 2s 75ms/step - loss: 1.1179 - accuracy: 0.3649 - val_loss: 1.0934 - val_accuracy: 0.4051\n",
            "Epoch 7/50\n",
            "23/23 [==============================] - 2s 75ms/step - loss: 1.1026 - accuracy: 0.4194 - val_loss: 1.1035 - val_accuracy: 0.3418\n",
            "Epoch 8/50\n",
            "23/23 [==============================] - 2s 75ms/step - loss: 1.1187 - accuracy: 0.3677 - val_loss: 1.0669 - val_accuracy: 0.4051\n",
            "Epoch 9/50\n",
            "23/23 [==============================] - 2s 75ms/step - loss: 1.0696 - accuracy: 0.4233 - val_loss: 1.0536 - val_accuracy: 0.5232\n",
            "Epoch 10/50\n",
            "23/23 [==============================] - 2s 76ms/step - loss: 1.0532 - accuracy: 0.4489 - val_loss: 1.0392 - val_accuracy: 0.4726\n",
            "Epoch 11/50\n",
            "23/23 [==============================] - 2s 75ms/step - loss: 1.0605 - accuracy: 0.4328 - val_loss: 1.0365 - val_accuracy: 0.5359\n",
            "Epoch 12/50\n",
            "23/23 [==============================] - 2s 76ms/step - loss: 1.0456 - accuracy: 0.4591 - val_loss: 1.0548 - val_accuracy: 0.4852\n",
            "Epoch 13/50\n",
            "23/23 [==============================] - 2s 75ms/step - loss: 1.0284 - accuracy: 0.4798 - val_loss: 1.0060 - val_accuracy: 0.5274\n",
            "Epoch 14/50\n",
            "23/23 [==============================] - 2s 76ms/step - loss: 1.0050 - accuracy: 0.4881 - val_loss: 1.0327 - val_accuracy: 0.5274\n",
            "Epoch 15/50\n",
            "23/23 [==============================] - 2s 75ms/step - loss: 1.0264 - accuracy: 0.4790 - val_loss: 0.9534 - val_accuracy: 0.5401\n",
            "Epoch 16/50\n",
            "23/23 [==============================] - 2s 75ms/step - loss: 0.9867 - accuracy: 0.5182 - val_loss: 0.9989 - val_accuracy: 0.5274\n",
            "Epoch 17/50\n",
            "23/23 [==============================] - 2s 75ms/step - loss: 0.9900 - accuracy: 0.4868 - val_loss: 1.0354 - val_accuracy: 0.5485\n",
            "Epoch 18/50\n",
            "23/23 [==============================] - 2s 75ms/step - loss: 0.9883 - accuracy: 0.5192 - val_loss: 0.9804 - val_accuracy: 0.5063\n",
            "Epoch 19/50\n",
            "23/23 [==============================] - 2s 76ms/step - loss: 1.0127 - accuracy: 0.4738 - val_loss: 0.9647 - val_accuracy: 0.5359\n",
            "Epoch 20/50\n",
            "23/23 [==============================] - 2s 75ms/step - loss: 0.9404 - accuracy: 0.6009 - val_loss: 0.9203 - val_accuracy: 0.5823\n",
            "Epoch 21/50\n",
            "23/23 [==============================] - 2s 76ms/step - loss: 0.9635 - accuracy: 0.5612 - val_loss: 0.9319 - val_accuracy: 0.5738\n",
            "Epoch 22/50\n",
            "23/23 [==============================] - 2s 77ms/step - loss: 0.9425 - accuracy: 0.5568 - val_loss: 0.9208 - val_accuracy: 0.5654\n",
            "Epoch 23/50\n",
            "23/23 [==============================] - 2s 75ms/step - loss: 0.9229 - accuracy: 0.5737 - val_loss: 0.9267 - val_accuracy: 0.5823\n",
            "Epoch 24/50\n",
            "23/23 [==============================] - 2s 77ms/step - loss: 0.9313 - accuracy: 0.5196 - val_loss: 0.8965 - val_accuracy: 0.5738\n",
            "Epoch 25/50\n",
            "23/23 [==============================] - 2s 76ms/step - loss: 0.8994 - accuracy: 0.5995 - val_loss: 0.9276 - val_accuracy: 0.5316\n",
            "Epoch 26/50\n",
            "23/23 [==============================] - 2s 75ms/step - loss: 0.8947 - accuracy: 0.5822 - val_loss: 0.8442 - val_accuracy: 0.5823\n",
            "Epoch 27/50\n",
            "23/23 [==============================] - 2s 76ms/step - loss: 0.8349 - accuracy: 0.5988 - val_loss: 0.8629 - val_accuracy: 0.5823\n",
            "Epoch 28/50\n",
            "23/23 [==============================] - 2s 76ms/step - loss: 0.8624 - accuracy: 0.5874 - val_loss: 0.8185 - val_accuracy: 0.5738\n",
            "Epoch 29/50\n",
            "23/23 [==============================] - 2s 76ms/step - loss: 0.8720 - accuracy: 0.5863 - val_loss: 0.8327 - val_accuracy: 0.5696\n",
            "Epoch 30/50\n",
            "23/23 [==============================] - 2s 76ms/step - loss: 0.8007 - accuracy: 0.6197 - val_loss: 0.8019 - val_accuracy: 0.5907\n",
            "Epoch 31/50\n",
            "23/23 [==============================] - 2s 76ms/step - loss: 0.7661 - accuracy: 0.6642 - val_loss: 0.9223 - val_accuracy: 0.5401\n",
            "Epoch 32/50\n",
            "23/23 [==============================] - 2s 77ms/step - loss: 0.8243 - accuracy: 0.6136 - val_loss: 0.7923 - val_accuracy: 0.5696\n",
            "Epoch 33/50\n",
            "23/23 [==============================] - 2s 77ms/step - loss: 0.8196 - accuracy: 0.5875 - val_loss: 0.7897 - val_accuracy: 0.5949\n",
            "Epoch 34/50\n",
            "23/23 [==============================] - 2s 76ms/step - loss: 0.7542 - accuracy: 0.6151 - val_loss: 0.7940 - val_accuracy: 0.6582\n",
            "Epoch 35/50\n",
            "23/23 [==============================] - 2s 76ms/step - loss: 0.7052 - accuracy: 0.6763 - val_loss: 0.8254 - val_accuracy: 0.5949\n",
            "Epoch 36/50\n",
            "23/23 [==============================] - 2s 75ms/step - loss: 0.7885 - accuracy: 0.6278 - val_loss: 0.7545 - val_accuracy: 0.7595\n",
            "Epoch 37/50\n",
            "23/23 [==============================] - 2s 76ms/step - loss: 0.7116 - accuracy: 0.6713 - val_loss: 0.8385 - val_accuracy: 0.5949\n",
            "Epoch 38/50\n",
            "23/23 [==============================] - 2s 77ms/step - loss: 0.6573 - accuracy: 0.7058 - val_loss: 0.7225 - val_accuracy: 0.6329\n",
            "Epoch 39/50\n",
            "23/23 [==============================] - 2s 76ms/step - loss: 0.6457 - accuracy: 0.6963 - val_loss: 0.6692 - val_accuracy: 0.7595\n",
            "Epoch 40/50\n",
            "23/23 [==============================] - 2s 77ms/step - loss: 0.6031 - accuracy: 0.7376 - val_loss: 0.6964 - val_accuracy: 0.7215\n",
            "Epoch 41/50\n",
            "23/23 [==============================] - 2s 77ms/step - loss: 0.6394 - accuracy: 0.7200 - val_loss: 0.6928 - val_accuracy: 0.7173\n",
            "Epoch 42/50\n",
            "23/23 [==============================] - 2s 77ms/step - loss: 0.6468 - accuracy: 0.7207 - val_loss: 0.7543 - val_accuracy: 0.7426\n",
            "Epoch 43/50\n",
            "23/23 [==============================] - 2s 77ms/step - loss: 0.5543 - accuracy: 0.7554 - val_loss: 0.6639 - val_accuracy: 0.7764\n",
            "Epoch 44/50\n",
            "23/23 [==============================] - 2s 77ms/step - loss: 0.4926 - accuracy: 0.7906 - val_loss: 0.7115 - val_accuracy: 0.7722\n",
            "Epoch 45/50\n",
            "23/23 [==============================] - 2s 77ms/step - loss: 0.6445 - accuracy: 0.7300 - val_loss: 0.6601 - val_accuracy: 0.7890\n",
            "Epoch 46/50\n",
            "23/23 [==============================] - 2s 76ms/step - loss: 0.5509 - accuracy: 0.7534 - val_loss: 0.7504 - val_accuracy: 0.7764\n",
            "Epoch 47/50\n",
            "23/23 [==============================] - 2s 77ms/step - loss: 0.4711 - accuracy: 0.7869 - val_loss: 0.6752 - val_accuracy: 0.7806\n",
            "Epoch 48/50\n",
            "23/23 [==============================] - 2s 76ms/step - loss: 0.5127 - accuracy: 0.8002 - val_loss: 0.7561 - val_accuracy: 0.7806\n",
            "Epoch 49/50\n",
            "23/23 [==============================] - 2s 76ms/step - loss: 0.4732 - accuracy: 0.8087 - val_loss: 0.6808 - val_accuracy: 0.7975\n",
            "Epoch 50/50\n",
            "23/23 [==============================] - 2s 77ms/step - loss: 0.4068 - accuracy: 0.8609 - val_loss: 0.6445 - val_accuracy: 0.8143\n"
          ],
          "name": "stdout"
        }
      ]
    },
    {
      "cell_type": "code",
      "metadata": {
        "colab": {
          "base_uri": "https://localhost:8080/",
          "height": 590
        },
        "id": "UdI6MDsxU2vq",
        "outputId": "5e00bcad-da00-4d76-f411-8131bd729181"
      },
      "source": [
        "import matplotlib.pyplot as plt\n",
        "\n",
        "print(H.history.keys())\n",
        "# summarize history for accuracy\n",
        "plt.plot(H.history['accuracy'])\n",
        "plt.plot(H.history['val_accuracy'])\n",
        "plt.title('model accuracy')\n",
        "plt.ylabel('accuracy')\n",
        "plt.xlabel('epoch')\n",
        "plt.legend(['train', 'test'], loc='upper left')\n",
        "plt.show()\n",
        "# summarize history for loss\n",
        "plt.plot(H.history['loss'])\n",
        "plt.plot(H.history['val_loss'])\n",
        "plt.title('model loss')\n",
        "plt.ylabel('loss')\n",
        "plt.xlabel('epoch')\n",
        "plt.legend(['train', 'test'], loc='upper left')\n",
        "plt.show()"
      ],
      "execution_count": null,
      "outputs": [
        {
          "output_type": "stream",
          "text": [
            "dict_keys(['loss', 'accuracy', 'val_loss', 'val_accuracy'])\n"
          ],
          "name": "stdout"
        },
        {
          "output_type": "display_data",
          "data": {
            "image/png": "[encoded data removed]",
            "text/plain": [
              "<Figure size 432x288 with 1 Axes>"
            ]
          },
          "metadata": {
            "tags": [],
            "needs_background": "light"
          }
        },
        {
          "output_type": "display_data",
          "data": {
            "image/png": "[encoded data removed]",
            "text/plain": [
              "<Figure size 432x288 with 1 Axes>"
            ]
          },
          "metadata": {
            "tags": [],
            "needs_background": "light"
          }
        }
      ]
    },
    {
      "cell_type": "code",
      "metadata": {
        "colab": {
          "base_uri": "https://localhost:8080/"
        },
        "id": "z8R5l3mtU8Qs",
        "outputId": "28e63e0e-02d5-4fb1-9991-578bcf992eb6"
      },
      "source": [
        "# evaluate the network\n",
        "print(\"[INFO] evaluating network...\")\n",
        "predictions = model.predict(testX, batch_size=32)\n",
        "print(classification_report(testY.argmax(axis=1),\n",
        "\tpredictions.argmax(axis=1), target_names=lb.classes_))"
      ],
      "execution_count": null,
      "outputs": [
        {
          "output_type": "stream",
          "text": [
            "[INFO] evaluating network...\n",
            "WARNING:tensorflow:Model was constructed with shape (None, 49152) for input KerasTensor(type_spec=TensorSpec(shape=(None, 49152), dtype=tf.float32, name='flatten_13_input'), name='flatten_13_input', description=\"created by layer 'flatten_13_input'\"), but it was called on an input with incompatible shape (None, 128, 128, 3).\n",
            "              precision    recall  f1-score   support\n",
            "\n",
            "       coast       0.77      0.84      0.80        86\n",
            "      forest       0.88      0.84      0.86        79\n",
            "     highway       0.80      0.76      0.78        72\n",
            "\n",
            "    accuracy                           0.81       237\n",
            "   macro avg       0.82      0.81      0.81       237\n",
            "weighted avg       0.82      0.81      0.81       237\n",
            "\n"
          ],
          "name": "stdout"
        }
      ]
    }
  ]
}